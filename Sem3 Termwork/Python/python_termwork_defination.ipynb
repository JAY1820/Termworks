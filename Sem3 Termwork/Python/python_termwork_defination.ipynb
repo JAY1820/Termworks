{
 "cells": [
  {
   "cell_type": "markdown",
   "metadata": {},
   "source": [
    "<h1>TERMWORK PROJECT </h1>\n",
    "<h2>Topics: WasteSort using Python libraries </h2>\n",
    "<h2>Roll No: MA067 </h2>\n"
   ]
  },
  {
   "cell_type": "markdown",
   "metadata": {},
   "source": [
    "<h2>1) Definition</h2>\n",
    " A recyclable waste classifier is a computer program that can identify and categorize different types of waste based on their images. It can help people sort their waste properly and reduce environmental pollution."
   ]
  },
  {
   "cell_type": "markdown",
   "metadata": {},
   "source": [
    "<h2>2)output</h2>\n",
    " The output of the project is a classifier  that can take an image of waste as input and output the label of its type, such as plastic, metal, paper, cardboard, or organic. "
   ]
  },
  {
   "cell_type": "markdown",
   "metadata": {},
   "source": [
    "<h2>3) Tools and libraries </h2>\n",
    "-Open CV </br>\n",
    "-Numpy"
   ]
  },
  {
   "cell_type": "markdown",
   "metadata": {},
   "source": []
  }
 ],
 "metadata": {
  "language_info": {
   "name": "python"
  },
  "orig_nbformat": 4
 },
 "nbformat": 4,
 "nbformat_minor": 2
}
